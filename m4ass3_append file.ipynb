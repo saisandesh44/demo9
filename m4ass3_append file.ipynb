{
 "cells": [
  {
   "cell_type": "code",
   "execution_count": 1,
   "metadata": {},
   "outputs": [
    {
     "name": "stdout",
     "output_type": "stream",
     "text": [
      "Output of Readlines after appending\n",
      "This is Delhi \n",
      "This is Paris \n",
      "This is London\n",
      "TodayTomorrow\n",
      "\n"
     ]
    }
   ],
   "source": [
    "file1 = open(\"myfile.txt\", \"w\") \n",
    "L = [\"This is Delhi \\n\", \"This is Paris \\n\", \"This is London\"] \n",
    "file1.writelines(L) \n",
    "file1.close() \n",
    "file1 = open(\"myfile.txt\", \"a\")    \n",
    "file1.write(\"\\n\") \n",
    "file1.write(\"Today\") \n",
    "file1.write(\"Tomorrow\") \n",
    "file1 = open(\"myfile.txt\", \"r\") \n",
    "print(\"Output of Readlines after appending\") \n",
    "print(file1.read()) \n",
    "print() \n",
    "file1.close() "
   ]
  }
 ],
 "metadata": {
  "kernelspec": {
   "display_name": "Python 3",
   "language": "python",
   "name": "python3"
  },
  "language_info": {
   "codemirror_mode": {
    "name": "ipython",
    "version": 3
   },
   "file_extension": ".py",
   "mimetype": "text/x-python",
   "name": "python",
   "nbconvert_exporter": "python",
   "pygments_lexer": "ipython3",
   "version": "3.8.3"
  }
 },
 "nbformat": 4,
 "nbformat_minor": 4
}
