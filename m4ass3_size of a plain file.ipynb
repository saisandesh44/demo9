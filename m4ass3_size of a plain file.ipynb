{
 "cells": [
  {
   "cell_type": "code",
   "execution_count": 11,
   "metadata": {},
   "outputs": [
    {
     "name": "stdout",
     "output_type": "stream",
     "text": [
      "File size in bytes of a plain file:  0\n"
     ]
    }
   ],
   "source": [
    "def file_size(fname):\n",
    "        import os\n",
    "        statinfo = os.stat(fname)\n",
    "        return statinfo.st_size\n",
    "\n",
    "print(\"File size in bytes of a plain file: \",file_size(\"test.txt\"))"
   ]
  }
 ],
 "metadata": {
  "kernelspec": {
   "display_name": "Python 3",
   "language": "python",
   "name": "python3"
  },
  "language_info": {
   "codemirror_mode": {
    "name": "ipython",
    "version": 3
   },
   "file_extension": ".py",
   "mimetype": "text/x-python",
   "name": "python",
   "nbconvert_exporter": "python",
   "pygments_lexer": "ipython3",
   "version": "3.8.3"
  }
 },
 "nbformat": 4,
 "nbformat_minor": 4
}
