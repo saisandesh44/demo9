{
 "cells": [
  {
   "cell_type": "code",
   "execution_count": 7,
   "metadata": {},
   "outputs": [
    {
     "name": "stdout",
     "output_type": "stream",
     "text": [
      "line number is 1\n",
      "\n",
      "line number is 2\n",
      "\n",
      "line number is 3\n",
      "\n"
     ]
    }
   ],
   "source": [
    "f=open(\"filename1.txt\",\"w\")\n",
    "f.write(\"line number is 1\\n\")\n",
    "f.write(\"line number is 2\\n\")\n",
    "f.write(\"line number is 3\\n\")\n",
    "f.write(\"line number is 4\\n\")\n",
    "f.write(\"line number is 5\\n\")\n",
    "f.write(\"line number is 6\\n\")\n",
    "f.write(\"line number is 7\\n\")\n",
    "f.close()\n",
    "\n",
    "a_file=open(\"filename1.txt\")\n",
    "no_of_lines=3\n",
    "for i in range(no_of_lines):\n",
    "     line=a_file.readline()\n",
    "     print(line)"
   ]
  }
 ],
 "metadata": {
  "kernelspec": {
   "display_name": "Python 3",
   "language": "python",
   "name": "python3"
  },
  "language_info": {
   "codemirror_mode": {
    "name": "ipython",
    "version": 3
   },
   "file_extension": ".py",
   "mimetype": "text/x-python",
   "name": "python",
   "nbconvert_exporter": "python",
   "pygments_lexer": "ipython3",
   "version": "3.8.3"
  }
 },
 "nbformat": 4,
 "nbformat_minor": 4
}
