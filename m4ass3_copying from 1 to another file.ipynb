{
 "cells": [
  {
   "cell_type": "code",
   "execution_count": 3,
   "metadata": {},
   "outputs": [
    {
     "name": "stdout",
     "output_type": "stream",
     "text": [
      "hello every onee!!\n"
     ]
    }
   ],
   "source": [
    "f=open(\"demo.txt\",\"w\")\n",
    "f.write(\"hello every onee!!\")\n",
    "f.close()\n",
    "f2=open(\"demo1.txt\",\"w\")\n",
    "f1=open(\"demo.txt\",\"r\")\n",
    "for line in f1:\n",
    "     f2.write(line)\n",
    "f1.close()\n",
    "f2.close()\n",
    "f3=open(\"demo1.txt\",\"r\")\n",
    "s1=f3.read()\n",
    "print(s1)\n",
    "f3.close()"
   ]
  }
 ],
 "metadata": {
  "kernelspec": {
   "display_name": "Python 3",
   "language": "python",
   "name": "python3"
  },
  "language_info": {
   "codemirror_mode": {
    "name": "ipython",
    "version": 3
   },
   "file_extension": ".py",
   "mimetype": "text/x-python",
   "name": "python",
   "nbconvert_exporter": "python",
   "pygments_lexer": "ipython3",
   "version": "3.8.3"
  }
 },
 "nbformat": 4,
 "nbformat_minor": 4
}
