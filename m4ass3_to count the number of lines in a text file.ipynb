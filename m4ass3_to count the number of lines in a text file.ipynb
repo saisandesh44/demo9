{
 "cells": [
  {
   "cell_type": "code",
   "execution_count": 1,
   "metadata": {},
   "outputs": [
    {
     "name": "stdout",
     "output_type": "stream",
     "text": [
      "total no.of lines is:  7\n"
     ]
    }
   ],
   "source": [
    "fname=\"filename1.txt\"\n",
    "count=0\n",
    "with open(fname,'r')as f:\n",
    "    for line in f:\n",
    "        count+=1\n",
    "print(\"total no.of lines is: \",count)"
   ]
  }
 ],
 "metadata": {
  "kernelspec": {
   "display_name": "Python 3",
   "language": "python",
   "name": "python3"
  },
  "language_info": {
   "codemirror_mode": {
    "name": "ipython",
    "version": 3
   },
   "file_extension": ".py",
   "mimetype": "text/x-python",
   "name": "python",
   "nbconvert_exporter": "python",
   "pygments_lexer": "ipython3",
   "version": "3.8.3"
  }
 },
 "nbformat": 4,
 "nbformat_minor": 4
}
