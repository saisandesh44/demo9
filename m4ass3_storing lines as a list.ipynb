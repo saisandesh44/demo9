{
 "cells": [
  {
   "cell_type": "code",
   "execution_count": 1,
   "metadata": {},
   "outputs": [
    {
     "name": "stdout",
     "output_type": "stream",
     "text": [
      "['line number is 1\\n', 'line number is 2\\n', 'line number is 3\\n', 'line number is 4\\n', 'line number is 5\\n', 'line number is 6\\n', 'line number is 7\\n']\n"
     ]
    }
   ],
   "source": [
    "def file_read(fname):\n",
    "        with open(fname) as f:  \n",
    "                content_list = f.readlines()\n",
    "                print(content_list)\n",
    "file_read(\"filename1.txt\")"
   ]
  }
 ],
 "metadata": {
  "kernelspec": {
   "display_name": "Python 3",
   "language": "python",
   "name": "python3"
  },
  "language_info": {
   "codemirror_mode": {
    "name": "ipython",
    "version": 3
   },
   "file_extension": ".py",
   "mimetype": "text/x-python",
   "name": "python",
   "nbconvert_exporter": "python",
   "pygments_lexer": "ipython3",
   "version": "3.8.3"
  }
 },
 "nbformat": 4,
 "nbformat_minor": 4
}
